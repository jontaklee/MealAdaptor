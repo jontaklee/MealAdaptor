{
 "cells": [
  {
   "cell_type": "code",
   "execution_count": null,
   "metadata": {},
   "outputs": [],
   "source": [
    "import os\n",
    "import json\n",
    "import pickle\n",
    "\n",
    "import itertools\n",
    "import string\n",
    "import unicodedata\n",
    "from collections import OrderedDict\n",
    "\n",
    "from nltk.tokenize import word_tokenize\n",
    "from nltk.corpus import stopwords\n",
    "from nltk.stem.porter import PorterStemmer\n",
    "import inflect\n",
    "\n",
    "import pandas as pd\n"
   ]
  },
  {
   "cell_type": "markdown",
   "metadata": {},
   "source": [
    "### general stopwords and stopwords specific to recipes ###"
   ]
  },
  {
   "cell_type": "code",
   "execution_count": null,
   "metadata": {},
   "outputs": [],
   "source": [
    "stop_words = set(stopwords.words('english'))\n",
    "\n",
    "with open('ingredient_stops.pickle', 'rb') as f:\n",
    "    ingredient_stops = pickle.load(f)"
   ]
  },
  {
   "cell_type": "markdown",
   "metadata": {},
   "source": [
    "### for stemming and punctuation"
   ]
  },
  {
   "cell_type": "code",
   "execution_count": null,
   "metadata": {},
   "outputs": [],
   "source": [
    "table = str.maketrans('', '', string.punctuation)\n",
    "porter = PorterStemmer()"
   ]
  },
  {
   "cell_type": "markdown",
   "metadata": {},
   "source": [
    "### for removing duplicate recipes"
   ]
  },
  {
   "cell_type": "code",
   "execution_count": null,
   "metadata": {},
   "outputs": [],
   "source": [
    "def sort_dict_list(list_to_be_sorted, sort_by):\n",
    "    return sorted(list_to_be_sorted, key=lambda k: k[sort_by])"
   ]
  },
  {
   "cell_type": "markdown",
   "metadata": {},
   "source": [
    "### staple foods - names modified for compatibility"
   ]
  },
  {
   "cell_type": "code",
   "execution_count": null,
   "metadata": {},
   "outputs": [],
   "source": [
    "df_staples = pd.read_csv('staples_tagged_singular.csv')\n",
    "food_staples = df_staples['AbbrvName']"
   ]
  },
  {
   "cell_type": "markdown",
   "metadata": {},
   "source": [
    "## functions to clean ingredients and instructions"
   ]
  },
  {
   "cell_type": "code",
   "execution_count": null,
   "metadata": {},
   "outputs": [],
   "source": [
    "def remove_accents(input_str):\n",
    "    nfkd_form = unicodedata.normalize('NFKD', input_str)\n",
    "    return u\"\".join([c for c in nfkd_form if not unicodedata.combining(c)])"
   ]
  },
  {
   "cell_type": "code",
   "execution_count": null,
   "metadata": {},
   "outputs": [],
   "source": [
    "deplural = inflect.engine()\n",
    "\n",
    "def clean_ingredients(ingredient):\n",
    "    \n",
    "    ## tokenize and remove stop words ##\n",
    "    ingrd_tokens = word_tokenize(ingredient)\n",
    "    words = [w for w in ingrd_tokens if w.isalpha()]\n",
    "    words = [w.lower() for w in words]\n",
    "    words = [w for w in words if not w in stop_words]\n",
    "    words = [w for w in words if not w in ingredient_stops]\n",
    "    \n",
    "    ## words to singular form ##\n",
    "    for i in words:\n",
    "        singular = deplural.singular_noun(words[i])\n",
    "        if singular:\n",
    "            words[i] = singular\n",
    "        else:\n",
    "            continue\n",
    "    \n",
    "    ## adjust niche cases ##\n",
    "    words = [x.replace('stock', 'broth') for x in words]\n",
    "    words = [x.replace('steak', 'beef') for x in words]\n",
    "    words = [x.replace('chuck', 'beef') for x in words]\n",
    "    words = [x.replace('crawfish', 'crayfish') for x in words]\n",
    "    \n",
    "    ingredient_clean = ' '.join(words)\n",
    "    \n",
    "    ## adjust additional niche cases ##\n",
    "    ingredient_clean = ingredient_clean.replace('game hen', 'hen')\n",
    "    ingredient_clean = ingredient_clean.replace('salt pepper', '')\n",
    "    \n",
    "    ## call staple foods consistently ##\n",
    "    for staple in food_staples:\n",
    "        if staple in ingredient_clean:\n",
    "            ingredient_clean = staple\n",
    "            break        \n",
    "            \n",
    "    return ingredient_clean\n"
   ]
  },
  {
   "cell_type": "code",
   "execution_count": null,
   "metadata": {},
   "outputs": [],
   "source": [
    "def clean_instructions(doc):\n",
    "    try:\n",
    "        tokens = word_tokenize(doc.lower())\n",
    "        stripped = [w.translate(table) for w in tokens]\n",
    "        words = [word for word in stripped if word.isalpha()]\n",
    "        words = [w for w in words if not w in stop_words]\n",
    "        stemmed = [porter.stem(word) for word in words]\n",
    "        return stemmed\n",
    "    except AttributeError:\n",
    "        return []"
   ]
  },
  {
   "cell_type": "markdown",
   "metadata": {},
   "source": [
    "## clean spoonacular recipes "
   ]
  },
  {
   "cell_type": "code",
   "execution_count": null,
   "metadata": {},
   "outputs": [],
   "source": [
    "with open('spoonacular_recipes.json') as infile:\n",
    "    recipe_list = json.loads(infile.read())"
   ]
  },
  {
   "cell_type": "code",
   "execution_count": null,
   "metadata": {},
   "outputs": [],
   "source": [
    "ingrds_instr = []\n",
    "for recipe in recipe_list:\n",
    "    ingrds_in = recipe['ingredient_names']\n",
    "    cleaned_ingr_list = [clean_ingredients(item) for item in ingrds_in]\n",
    "    cleaned_ingr_list = [x for x in cleaned_ingr_list if x]\n",
    "    \n",
    "    ## remove duplicate instances of an ingredient\n",
    "    cleaned_ingr_list = list(OrderedDict.fromkeys(cleaned_ingr_list))\n",
    "    \n",
    "    instructions_doc = ' '.join(recipe['instructions'])\n",
    "    instructions_doc = clean_instructions(instructions_doc)\n",
    "    ingrds_instr.append((recipe['name'], cleaned_ingr_list, instructions_doc))\n",
    "    \n",
    "df_spoon = pd.DataFrame(ingrds_instr, columns = ['names','ingredients', 'instructions'])    "
   ]
  },
  {
   "cell_type": "markdown",
   "metadata": {},
   "source": [
    "## clean eightportions recipes"
   ]
  },
  {
   "cell_type": "code",
   "execution_count": null,
   "metadata": {},
   "outputs": [],
   "source": [
    "path = '''path to eightportions recipes in json format'''\n",
    "recipe_lists = os.listdir(path)\n",
    "recipe_lists = [x for x in recipe_lists if x.endswith('.json')]"
   ]
  },
  {
   "cell_type": "code",
   "execution_count": null,
   "metadata": {},
   "outputs": [],
   "source": [
    "recipe_attrib = []\n",
    "for recipe_list in recipe_lists:\n",
    "    with open(path+recipe_list, encoding = 'utf-8') as infile:\n",
    "        recipes = json.loads(infile.read())\n",
    "    for k in recipes.keys():\n",
    "        recipe = recipes[k]\n",
    "        try:\n",
    "            name = recipe['title']\n",
    "            instructions_out = clean_instructions(recipe['instructions'])\n",
    "            ingredients_out = [clean_ingredients(i) for i in recipe['ingredients']]\n",
    "        except KeyError:\n",
    "            continue\n",
    "        \n",
    "        if instructions_out:\n",
    "            recipe_attrib.append((name, ingredients_out, instructions_out))\n",
    "\n",
    "        \n",
    "df_eightportion = pd.DataFrame(recipe_attrib, columns = ['names', 'ingredients', 'instructions'])\n"
   ]
  },
  {
   "cell_type": "code",
   "execution_count": null,
   "metadata": {},
   "outputs": [],
   "source": [
    "unique_ingrds_list = [list(OrderedDict.fromkeys(x)) for x in df_eightportion['ingredients']]\n",
    "for i in range(len(unique_ingrds_list)):\n",
    "    unique_ingrds_list[i] = [x for x in unique_ingrds_list[i] if x]\n",
    "df_eightportion['ingredients'] = unique_ingrds_list"
   ]
  },
  {
   "cell_type": "markdown",
   "metadata": {},
   "source": [
    "### concatenate dataframes and pickle"
   ]
  },
  {
   "cell_type": "code",
   "execution_count": null,
   "metadata": {},
   "outputs": [],
   "source": [
    "df_tot = pd.concat([df_eightportion, df_spoon])\n",
    "df_tot.drop_duplicates(subset = 'names', inplace = True)"
   ]
  },
  {
   "cell_type": "code",
   "execution_count": null,
   "metadata": {},
   "outputs": [],
   "source": [
    "'''\n",
    "with open('compiled_recipes_total.pickle', 'wb') as f:\n",
    "    pickle.dump(df_tot, f)\n",
    "'''"
   ]
  }
 ],
 "metadata": {
  "kernelspec": {
   "display_name": "Python 3",
   "language": "python",
   "name": "python3"
  },
  "language_info": {
   "codemirror_mode": {
    "name": "ipython",
    "version": 3
   },
   "file_extension": ".py",
   "mimetype": "text/x-python",
   "name": "python",
   "nbconvert_exporter": "python",
   "pygments_lexer": "ipython3",
   "version": "3.7.1"
  }
 },
 "nbformat": 4,
 "nbformat_minor": 2
}
