{
 "cells": [
  {
   "cell_type": "code",
   "execution_count": 40,
   "metadata": {},
   "outputs": [],
   "source": [
    "import os\n",
    "import json\n",
    "import pickle\n",
    "\n",
    "import itertools\n",
    "import string\n",
    "import unicodedata\n",
    "from collections import OrderedDict\n",
    "\n",
    "from nltk.tokenize import word_tokenize\n",
    "from nltk.corpus import stopwords\n",
    "from nltk.stem.porter import PorterStemmer\n",
    "import inflect\n",
    "\n",
    "import pandas as pd"
   ]
  },
  {
   "cell_type": "markdown",
   "metadata": {},
   "source": [
    "### general stopwords and stopwords specific to food/recipes ###"
   ]
  },
  {
   "cell_type": "code",
   "execution_count": 2,
   "metadata": {},
   "outputs": [],
   "source": [
    "stop_words = set(stopwords.words('english'))\n",
    "\n",
    "with open('ingredient_stops.pickle', 'rb') as f:\n",
    "    ingredient_stops = pickle.load(f)"
   ]
  },
  {
   "cell_type": "markdown",
   "metadata": {},
   "source": [
    "### for stemming and punctuation"
   ]
  },
  {
   "cell_type": "code",
   "execution_count": 3,
   "metadata": {},
   "outputs": [],
   "source": [
    "table = str.maketrans('', '', string.punctuation)\n",
    "porter = PorterStemmer()"
   ]
  },
  {
   "cell_type": "markdown",
   "metadata": {},
   "source": [
    "### staple foods - names modified for compatibility"
   ]
  },
  {
   "cell_type": "code",
   "execution_count": 5,
   "metadata": {},
   "outputs": [],
   "source": [
    "df_staples = pd.read_csv('staples_tagged_singular.csv')\n",
    "food_staples = df_staples['AbbrvName']"
   ]
  },
  {
   "cell_type": "markdown",
   "metadata": {},
   "source": [
    "## functions to clean ingredients and instructions"
   ]
  },
  {
   "cell_type": "code",
   "execution_count": 6,
   "metadata": {},
   "outputs": [],
   "source": [
    "def remove_accents(input_str):\n",
    "    nfkd_form = unicodedata.normalize('NFKD', input_str)\n",
    "    return u\"\".join([c for c in nfkd_form if not unicodedata.combining(c)])"
   ]
  },
  {
   "cell_type": "code",
   "execution_count": 46,
   "metadata": {},
   "outputs": [],
   "source": [
    "deplural = inflect.engine()\n",
    "\n",
    "def clean_ingredients(ingredient):\n",
    "    \n",
    "    dup_words = ['stock', 'steak', 'chuck', 'crawfish']\n",
    "    fixed_words = ['broth', 'beef', 'beef', 'crayfish']\n",
    "    \n",
    "    ## tokenize and lowercase ##\n",
    "    ingrd_tokens = word_tokenize(ingredient)\n",
    "    words = [w.lower() for w in ingrd_tokens if w.isalpha()]\n",
    "    \n",
    "    clean_words = []\n",
    "    for word in words:\n",
    "        \n",
    "        ## remove stop words ##\n",
    "        if word not in stop_words and word not in ingredient_stops:\n",
    "            \n",
    "            ## remove accents ##\n",
    "            word = remove_accents(word)\n",
    "            \n",
    "            ## words to singular form ##\n",
    "            singular = deplural.singular_noun(word)\n",
    "            if singular:\n",
    "                word = singular\n",
    "                \n",
    "            ## adjust niche cases for certain staples ##\n",
    "            if word in dup_words:\n",
    "                word = fixed_words[dup_words.index(word)]\n",
    "            clean_words.append(word)\n",
    "        else:\n",
    "            continue\n",
    "    \n",
    "    ingredient_clean = ' '.join(words)\n",
    "    \n",
    "    ## adjust additional niche cases ##\n",
    "    ingredient_clean = ingredient_clean.replace('game hen', 'hen')\n",
    "    \n",
    "    ## ignore instances of 'salt and pepper'.\n",
    "    ## can be modified to replace with salt, pepper, or return both\n",
    "    ingredient_clean = ingredient_clean.replace('salt pepper', '')\n",
    "    \n",
    "    ## call staple foods consistently ##\n",
    "    for staple in food_staples:\n",
    "        if staple in ingredient_clean:\n",
    "            ingredient_clean = staple\n",
    "            break     \n",
    "            \n",
    "    return ingredient_clean"
   ]
  },
  {
   "cell_type": "code",
   "execution_count": 8,
   "metadata": {},
   "outputs": [],
   "source": [
    "def clean_instructions(doc):\n",
    "    try:\n",
    "        \n",
    "        ## remove punctuation and stopwords, and stem ##\n",
    "        tokens = word_tokenize(doc.lower())\n",
    "        stripped = [w.translate(table) for w in tokens]\n",
    "        words = [word for word in stripped if word.isalpha()]\n",
    "        words = [w for w in words if not w in stop_words]\n",
    "        stemmed = [porter.stem(word) for word in words]\n",
    "        return stemmed\n",
    "    \n",
    "    ## if no instructions are present\n",
    "    except AttributeError:\n",
    "        return []"
   ]
  },
  {
   "cell_type": "markdown",
   "metadata": {},
   "source": [
    "## clean spoonacular recipes "
   ]
  },
  {
   "cell_type": "code",
   "execution_count": 50,
   "metadata": {},
   "outputs": [],
   "source": [
    "with open('spoonacular_recipes.json') as infile:\n",
    "    recipe_list = json.loads(infile.read())"
   ]
  },
  {
   "cell_type": "code",
   "execution_count": 52,
   "metadata": {},
   "outputs": [],
   "source": [
    "ingrds_instr = []\n",
    "for recipe in recipe_list:\n",
    "    ingrds_in = recipe['ingredient_names']\n",
    "    cleaned_ingr_list = [clean_ingredients(item) for item in ingrds_in]\n",
    "    cleaned_ingr_list = [x for x in cleaned_ingr_list if x]\n",
    "    \n",
    "    ## remove duplicate instances of an ingredient\n",
    "    cleaned_ingr_list = list(OrderedDict.fromkeys(cleaned_ingr_list))\n",
    "    \n",
    "    instructions_doc = ' '.join(recipe['instructions'])\n",
    "    instructions_doc = clean_instructions(instructions_doc)\n",
    "    ingrds_instr.append((recipe['name'], cleaned_ingr_list, instructions_doc))\n",
    "    \n",
    "df_spoon = pd.DataFrame(ingrds_instr, columns = ['names','ingredients', 'instructions'])    "
   ]
  },
  {
   "cell_type": "markdown",
   "metadata": {},
   "source": [
    "## clean eightportions recipes"
   ]
  },
  {
   "cell_type": "code",
   "execution_count": 34,
   "metadata": {},
   "outputs": [],
   "source": [
    "path = 'eight_portions_recipes/'\n",
    "recipe_lists = os.listdir(path)\n",
    "recipe_lists = [x for x in recipe_lists if x.endswith('.json')]"
   ]
  },
  {
   "cell_type": "code",
   "execution_count": 41,
   "metadata": {
    "scrolled": true
   },
   "outputs": [
    {
     "ename": "KeyboardInterrupt",
     "evalue": "",
     "output_type": "error",
     "traceback": [
      "\u001b[0;31m---------------------------------------------------------------------------\u001b[0m",
      "\u001b[0;31mKeyboardInterrupt\u001b[0m                         Traceback (most recent call last)",
      "\u001b[0;32m<ipython-input-41-16c26e34989d>\u001b[0m in \u001b[0;36m<module>\u001b[0;34m\u001b[0m\n\u001b[1;32m     15\u001b[0m             \u001b[0mrecipe_attrib\u001b[0m\u001b[0;34m.\u001b[0m\u001b[0mappend\u001b[0m\u001b[0;34m(\u001b[0m\u001b[0;34m(\u001b[0m\u001b[0mname\u001b[0m\u001b[0;34m,\u001b[0m \u001b[0mingredients_out\u001b[0m\u001b[0;34m,\u001b[0m \u001b[0minstructions_out\u001b[0m\u001b[0;34m)\u001b[0m\u001b[0;34m)\u001b[0m\u001b[0;34m\u001b[0m\u001b[0;34m\u001b[0m\u001b[0m\n\u001b[1;32m     16\u001b[0m \u001b[0;34m\u001b[0m\u001b[0m\n\u001b[0;32m---> 17\u001b[0;31m         \u001b[0mtime\u001b[0m\u001b[0;34m.\u001b[0m\u001b[0msleep\u001b[0m\u001b[0;34m(\u001b[0m\u001b[0;36m0.2\u001b[0m\u001b[0;34m)\u001b[0m\u001b[0;34m\u001b[0m\u001b[0;34m\u001b[0m\u001b[0m\n\u001b[0m\u001b[1;32m     18\u001b[0m \u001b[0;34m\u001b[0m\u001b[0m\n\u001b[1;32m     19\u001b[0m \u001b[0;34m\u001b[0m\u001b[0m\n",
      "\u001b[0;31mKeyboardInterrupt\u001b[0m: "
     ]
    }
   ],
   "source": [
    "recipe_attrib = []\n",
    "for recipe_list in recipe_lists:\n",
    "    with open(path+recipe_list, encoding = 'utf-8') as infile:\n",
    "        recipes = json.loads(infile.read())\n",
    "    for k in recipes.keys():\n",
    "        recipe = recipes[k]\n",
    "        try:\n",
    "            name = recipe['title']\n",
    "            instructions_out = clean_instructions(recipe['instructions'])\n",
    "            ingredients_out = [clean_ingredients(i) for i in recipe['ingredients']]\n",
    "        except KeyError:\n",
    "            continue\n",
    "        \n",
    "        if instructions_out:\n",
    "            recipe_attrib.append((name, ingredients_out, instructions_out))\n",
    "                "
   ]
  },
  {
   "cell_type": "code",
   "execution_count": 38,
   "metadata": {},
   "outputs": [],
   "source": [
    "df_eightportion = pd.DataFrame(recipe_attrib, columns = ['names', 'ingredients', 'instructions'])"
   ]
  },
  {
   "cell_type": "markdown",
   "metadata": {},
   "source": [
    "#### remove duplicate ingredients and empty strings"
   ]
  },
  {
   "cell_type": "code",
   "execution_count": 39,
   "metadata": {},
   "outputs": [],
   "source": [
    "unique_ingrds_list = [list(OrderedDict.fromkeys(x)) for x in df_eightportion['ingredients']]\n",
    "for i in range(len(unique_ingrds_list)):\n",
    "    unique_ingrds_list[i] = [x for x in unique_ingrds_list[i] if x]\n",
    "df_eightportion['ingredients'] = unique_ingrds_list"
   ]
  },
  {
   "cell_type": "markdown",
   "metadata": {},
   "source": [
    "### concatenate dataframes and pickle"
   ]
  },
  {
   "cell_type": "code",
   "execution_count": 42,
   "metadata": {},
   "outputs": [],
   "source": [
    "df_tot = pd.concat([df_eightportion, df_spoon])\n",
    "df_tot.drop_duplicates(subset = 'names', inplace = True)"
   ]
  },
  {
   "cell_type": "code",
   "execution_count": 44,
   "metadata": {},
   "outputs": [
    {
     "data": {
      "text/plain": [
       "\"\\nwith open('compiled_recipes.pickle', 'wb') as f:\\n    pickle.dump(df_tot, f)\\n\""
      ]
     },
     "execution_count": 44,
     "metadata": {},
     "output_type": "execute_result"
    }
   ],
   "source": [
    "'''\n",
    "with open('compiled_recipes.pickle', 'wb') as f:\n",
    "    pickle.dump(df_tot, f)\n",
    "'''"
   ]
  }
 ],
 "metadata": {
  "kernelspec": {
   "display_name": "Python 3",
   "language": "python",
   "name": "python3"
  },
  "language_info": {
   "codemirror_mode": {
    "name": "ipython",
    "version": 3
   },
   "file_extension": ".py",
   "mimetype": "text/x-python",
   "name": "python",
   "nbconvert_exporter": "python",
   "pygments_lexer": "ipython3",
   "version": "3.7.1"
  }
 },
 "nbformat": 4,
 "nbformat_minor": 2
}
