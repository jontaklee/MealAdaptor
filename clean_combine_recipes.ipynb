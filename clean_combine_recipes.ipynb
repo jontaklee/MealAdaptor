{
 "cells": [
  {
   "cell_type": "markdown",
   "metadata": {},
   "source": [
    "# Clean and Combine Recipes"
   ]
  },
  {
   "cell_type": "markdown",
   "metadata": {},
   "source": [
    "This notebook contains functions to clean recipes and output them to a dataframe for downstream analysis <br><br>\n",
    "\n",
    "The majority of recipes come from the eightportions dataset, which consists of pre-scraped recipes from allrecipes, epicurious, and food network. It is available at https://eightportions.com/datasets/Recipes/.<br><br>\n",
    "\n",
    "This dataset is spread across three json files, with each file corresponding to a different repository. Features consist of:\n",
    "1. recipe name\n",
    "2. ingredients\n",
    "3. cooking instructions\n",
    "4. picture link (not used)\n",
    "\n",
    "The remaining recipes were obtained using the spoonacular food api. Features for these recipes include:\n",
    "1. recipe name\n",
    "2. ingredients\n",
    "3. cooking instructions\n",
    "\n",
    "as well as additional features not incorporated here: ingredient units and amounts, sourceURL, health score, rating, and likes.<br>\n",
    "Only recipes tagged with staple foods missing from the eightportions datasets are included in the spoonacular recipes.\n"
   ]
  },
  {
   "cell_type": "code",
   "execution_count": 1,
   "metadata": {},
   "outputs": [],
   "source": [
    "import os\n",
    "import json\n",
    "import pickle\n",
    "\n",
    "import itertools\n",
    "import string\n",
    "import unicodedata\n",
    "from collections import OrderedDict\n",
    "\n",
    "from nltk.tokenize import word_tokenize\n",
    "from nltk.corpus import stopwords\n",
    "from nltk.stem.porter import PorterStemmer\n",
    "import inflect\n",
    "\n",
    "import pandas as pd"
   ]
  },
  {
   "cell_type": "markdown",
   "metadata": {},
   "source": [
    "### general stopwords and stopwords specific to food/recipes ###"
   ]
  },
  {
   "cell_type": "markdown",
   "metadata": {},
   "source": [
    "The ingredient_stops list is primarily used to clean the eightportions recipes, which have a multitude of descriptors in the ingredients."
   ]
  },
  {
   "cell_type": "code",
   "execution_count": 2,
   "metadata": {},
   "outputs": [],
   "source": [
    "stop_words = set(stopwords.words('english'))\n",
    "\n",
    "with open('ingredient_stops.pickle', 'rb') as f:\n",
    "    ingredient_stops = pickle.load(f)"
   ]
  },
  {
   "cell_type": "markdown",
   "metadata": {},
   "source": [
    "### for stemming and punctuation"
   ]
  },
  {
   "cell_type": "code",
   "execution_count": 3,
   "metadata": {},
   "outputs": [],
   "source": [
    "table = str.maketrans('', '', string.punctuation)\n",
    "porter = PorterStemmer()"
   ]
  },
  {
   "cell_type": "markdown",
   "metadata": {},
   "source": [
    "### staple foods - names modified for compatibility"
   ]
  },
  {
   "cell_type": "markdown",
   "metadata": {},
   "source": [
    "Names of some staples have been modified to fit their more conventional names. Several words are also abnormally truncated to accomodate errors in the .singular_noun() method employed in the cleaning step. These can be string replaced further downstream."
   ]
  },
  {
   "cell_type": "code",
   "execution_count": 4,
   "metadata": {},
   "outputs": [],
   "source": [
    "df_staples = pd.read_csv('staples_tagged_singular.csv')\n",
    "food_staples = df_staples['AbbrvName']"
   ]
  },
  {
   "cell_type": "markdown",
   "metadata": {},
   "source": [
    "## functions to clean ingredients and instructions"
   ]
  },
  {
   "cell_type": "code",
   "execution_count": 5,
   "metadata": {},
   "outputs": [],
   "source": [
    "def remove_accents(input_str):\n",
    "    nfkd_form = unicodedata.normalize('NFKD', input_str)\n",
    "    return u\"\".join([c for c in nfkd_form if not unicodedata.combining(c)])"
   ]
  },
  {
   "cell_type": "code",
   "execution_count": 6,
   "metadata": {},
   "outputs": [],
   "source": [
    "deplural = inflect.engine()\n",
    "\n",
    "def clean_ingredients(ingredient):\n",
    "    \n",
    "    dup_words = ['stock', 'steak', 'chuck', 'crawfish']\n",
    "    fixed_words = ['broth', 'beef', 'beef', 'crayfish']\n",
    "    \n",
    "    ## tokenize and lowercase ##\n",
    "    ingrd_tokens = word_tokenize(ingredient)\n",
    "    words = [w.lower() for w in ingrd_tokens if w.isalpha()]\n",
    "    \n",
    "    clean_words = []\n",
    "    for word in words:\n",
    "        \n",
    "        ## remove stop words ##\n",
    "        if word not in stop_words and word not in ingredient_stops:\n",
    "            \n",
    "            ## remove accents ##\n",
    "            word = remove_accents(word)\n",
    "            \n",
    "            ## words to singular form ##\n",
    "            singular = deplural.singular_noun(word)\n",
    "            if singular:\n",
    "                word = singular\n",
    "                \n",
    "            ## adjust niche cases for certain staples ##\n",
    "            if word in dup_words:\n",
    "                word = fixed_words[dup_words.index(word)]\n",
    "            clean_words.append(word)\n",
    "        else:\n",
    "            continue\n",
    "    \n",
    "    ingredient_clean = ' '.join(words)\n",
    "    \n",
    "    ## adjust additional niche cases ##\n",
    "    ingredient_clean = ingredient_clean.replace('game hen', 'hen')\n",
    "    \n",
    "    ## ignore instances of 'salt and pepper'.\n",
    "    ## can be modified to replace with salt, pepper, or return both\n",
    "    ingredient_clean = ingredient_clean.replace('salt pepper', '')\n",
    "    \n",
    "    ## call staple foods consistently ##\n",
    "    for staple in food_staples:\n",
    "        if staple in ingredient_clean:\n",
    "            ingredient_clean = staple\n",
    "            break     \n",
    "            \n",
    "    return ingredient_clean"
   ]
  },
  {
   "cell_type": "code",
   "execution_count": 7,
   "metadata": {},
   "outputs": [],
   "source": [
    "def clean_instructions(doc):\n",
    "    try:\n",
    "        \n",
    "        ## remove punctuation and stopwords, and stem ##\n",
    "        tokens = word_tokenize(doc.lower())\n",
    "        stripped = [w.translate(table) for w in tokens]\n",
    "        words = [word for word in stripped if word.isalpha()]\n",
    "        words = [w for w in words if not w in stop_words]\n",
    "        stemmed = [porter.stem(word) for word in words]\n",
    "        return stemmed\n",
    "    \n",
    "    ## if no instructions are present\n",
    "    except AttributeError:\n",
    "        return []"
   ]
  },
  {
   "cell_type": "markdown",
   "metadata": {},
   "source": [
    "## clean spoonacular recipes "
   ]
  },
  {
   "cell_type": "code",
   "execution_count": 8,
   "metadata": {},
   "outputs": [],
   "source": [
    "with open('spoonacular_recipes.json') as infile:\n",
    "    recipe_list = json.loads(infile.read())"
   ]
  },
  {
   "cell_type": "markdown",
   "metadata": {},
   "source": [
    "example spoonacular recipe:"
   ]
  },
  {
   "cell_type": "code",
   "execution_count": 9,
   "metadata": {},
   "outputs": [
    {
     "data": {
      "text/plain": [
       "{'ingredient_names': ['baby spinach',\n",
       "  'coleslaw mix',\n",
       "  'dijon mustard',\n",
       "  'havarti cheese',\n",
       "  'horseradish',\n",
       "  'kosher salt',\n",
       "  'mayonnaise',\n",
       "  'pickled beets',\n",
       "  'roast beef deli slices',\n",
       "  'rye bread',\n",
       "  'sour cream'],\n",
       " 'source': 'http://www.foodnetwork.com/recipes/food-network-kitchens/10-minute-beef-and-beet-salad-with-horseradish-dressing.html',\n",
       " 'rating': 83.0,\n",
       " 'name': '10-Minute Beef-and-Beet Salad with Horseradish Dressing',\n",
       " 'ingredient_amts': [4.0, 7.0, 2.0, 4.0, 3.0, 4.0, 2.0, 0.75, 0.5, 2.0, 0.25],\n",
       " 'health_score': 22.0,\n",
       " 'instructions': ['Toast the rye bread.',\n",
       "  'Meanwhile, whisk together the sour cream, horseradish, mayonnaise, mustard, 3 tablespoons water, 3/4 teaspoon salt and 1/4 teaspoon pepper in a large bowl.',\n",
       "  'Add the spinach, coleslaw mix and cheese and toss to combine.',\n",
       "  'Cut the toasted bread, crusts and all, into 1/2-inch pieces Divide dressed greens among 4 salad plates and top each with roast beef, beets and rye croutons.'],\n",
       " 'ingredient_units': ['cups',\n",
       "  'ounces',\n",
       "  'teaspoons',\n",
       "  'ounces',\n",
       "  'tablespoons',\n",
       "  'servings',\n",
       "  'tablespoons',\n",
       "  'cup',\n",
       "  'pound',\n",
       "  'slices',\n",
       "  'cup'],\n",
       " 'likes': 90}"
      ]
     },
     "execution_count": 9,
     "metadata": {},
     "output_type": "execute_result"
    }
   ],
   "source": [
    "recipe_list[0]"
   ]
  },
  {
   "cell_type": "code",
   "execution_count": 10,
   "metadata": {},
   "outputs": [],
   "source": [
    "ingrds_instr = []\n",
    "for recipe in recipe_list:\n",
    "    ingrds_in = recipe['ingredient_names']\n",
    "    cleaned_ingr_list = [clean_ingredients(item) for item in ingrds_in]\n",
    "    cleaned_ingr_list = [x for x in cleaned_ingr_list if x]\n",
    "    \n",
    "    ## remove duplicate instances of an ingredient\n",
    "    cleaned_ingr_list = list(OrderedDict.fromkeys(cleaned_ingr_list))\n",
    "    \n",
    "    ## spoonacular instructions come in a list of steps and clean_instructions() takes a single string\n",
    "    instructions_doc = ' '.join(recipe['instructions'])\n",
    "    instructions_doc = clean_instructions(instructions_doc)\n",
    "    \n",
    "    ingrds_instr.append((recipe['name'], cleaned_ingr_list, instructions_doc))\n",
    "    \n",
    "df_spoon = pd.DataFrame(ingrds_instr, columns = ['names','ingredients', 'instructions'])    "
   ]
  },
  {
   "cell_type": "code",
   "execution_count": 11,
   "metadata": {},
   "outputs": [
    {
     "data": {
      "text/html": [
       "<div>\n",
       "<style scoped>\n",
       "    .dataframe tbody tr th:only-of-type {\n",
       "        vertical-align: middle;\n",
       "    }\n",
       "\n",
       "    .dataframe tbody tr th {\n",
       "        vertical-align: top;\n",
       "    }\n",
       "\n",
       "    .dataframe thead th {\n",
       "        text-align: right;\n",
       "    }\n",
       "</style>\n",
       "<table border=\"1\" class=\"dataframe\">\n",
       "  <thead>\n",
       "    <tr style=\"text-align: right;\">\n",
       "      <th></th>\n",
       "      <th>names</th>\n",
       "      <th>ingredients</th>\n",
       "      <th>instructions</th>\n",
       "    </tr>\n",
       "  </thead>\n",
       "  <tbody>\n",
       "    <tr>\n",
       "      <th>0</th>\n",
       "      <td>10-Minute Beef-and-Beet Salad with Horseradish...</td>\n",
       "      <td>[spinach, coleslaw mix, dijon mustard, cheese,...</td>\n",
       "      <td>[toast, rye, bread, meanwhil, whisk, togeth, s...</td>\n",
       "    </tr>\n",
       "    <tr>\n",
       "      <th>1</th>\n",
       "      <td>100% Whole Wheat Nut &amp; Seed Bread</td>\n",
       "      <td>[egg, flour, honey, molass, olive oil, orange,...</td>\n",
       "      <td>[add, yeast, water, salt, honey, molass, stand...</td>\n",
       "    </tr>\n",
       "    <tr>\n",
       "      <th>2</th>\n",
       "      <td>3-Cheese Eggplant Lasagna</td>\n",
       "      <td>[tomato, canola oil, carrot, basil, egg, spina...</td>\n",
       "      <td>[sprinkl, side, eggplant, slice, tablespoon, s...</td>\n",
       "    </tr>\n",
       "    <tr>\n",
       "      <th>3</th>\n",
       "      <td>3-Layer Almond Coconut Chocolate Bars</td>\n",
       "      <td>[almond, coconut, rice, sea salt, maple syrup,...</td>\n",
       "      <td>[add, almond, food, processor, process, fine, ...</td>\n",
       "    </tr>\n",
       "    <tr>\n",
       "      <th>4</th>\n",
       "      <td>30-Minute Garlic Ginger Chicken Stir Fry</td>\n",
       "      <td>[braggs liquid aminos, broccoli, carrot, chili...</td>\n",
       "      <td>[note, serv, meal, rice, start, cook, follow, ...</td>\n",
       "    </tr>\n",
       "  </tbody>\n",
       "</table>\n",
       "</div>"
      ],
      "text/plain": [
       "                                               names  \\\n",
       "0  10-Minute Beef-and-Beet Salad with Horseradish...   \n",
       "1                  100% Whole Wheat Nut & Seed Bread   \n",
       "2                          3-Cheese Eggplant Lasagna   \n",
       "3              3-Layer Almond Coconut Chocolate Bars   \n",
       "4           30-Minute Garlic Ginger Chicken Stir Fry   \n",
       "\n",
       "                                         ingredients  \\\n",
       "0  [spinach, coleslaw mix, dijon mustard, cheese,...   \n",
       "1  [egg, flour, honey, molass, olive oil, orange,...   \n",
       "2  [tomato, canola oil, carrot, basil, egg, spina...   \n",
       "3  [almond, coconut, rice, sea salt, maple syrup,...   \n",
       "4  [braggs liquid aminos, broccoli, carrot, chili...   \n",
       "\n",
       "                                        instructions  \n",
       "0  [toast, rye, bread, meanwhil, whisk, togeth, s...  \n",
       "1  [add, yeast, water, salt, honey, molass, stand...  \n",
       "2  [sprinkl, side, eggplant, slice, tablespoon, s...  \n",
       "3  [add, almond, food, processor, process, fine, ...  \n",
       "4  [note, serv, meal, rice, start, cook, follow, ...  "
      ]
     },
     "execution_count": 11,
     "metadata": {},
     "output_type": "execute_result"
    }
   ],
   "source": [
    "df_spoon.head()"
   ]
  },
  {
   "cell_type": "markdown",
   "metadata": {},
   "source": [
    "## clean eightportions recipes"
   ]
  },
  {
   "cell_type": "code",
   "execution_count": null,
   "metadata": {},
   "outputs": [],
   "source": [
    "path = 'eight_portions_recipes/'\n",
    "recipe_lists = os.listdir(path)\n",
    "recipe_lists = [x for x in recipe_lists if x.endswith('.json')]"
   ]
  },
  {
   "cell_type": "code",
   "execution_count": null,
   "metadata": {
    "scrolled": true
   },
   "outputs": [],
   "source": [
    "recipe_attrib = []\n",
    "for recipe_list in recipe_lists:\n",
    "    with open(path+recipe_list, encoding = 'utf-8') as infile:\n",
    "        recipes = json.loads(infile.read())\n",
    "    for k in recipes.keys():\n",
    "        recipe = recipes[k]\n",
    "        try:\n",
    "            name = recipe['title']\n",
    "            instructions_out = clean_instructions(recipe['instructions'])\n",
    "            ingredients_out = [clean_ingredients(i) for i in recipe['ingredients']]\n",
    "        except KeyError:\n",
    "            continue\n",
    "        \n",
    "        if instructions_out:\n",
    "            recipe_attrib.append((name, ingredients_out, instructions_out))\n",
    "                "
   ]
  },
  {
   "cell_type": "code",
   "execution_count": null,
   "metadata": {},
   "outputs": [],
   "source": [
    "df_eightportion = pd.DataFrame(recipe_attrib, columns = ['names', 'ingredients', 'instructions'])"
   ]
  },
  {
   "cell_type": "markdown",
   "metadata": {},
   "source": [
    "#### remove duplicate ingredients and empty strings from eight_portion recipes"
   ]
  },
  {
   "cell_type": "code",
   "execution_count": null,
   "metadata": {},
   "outputs": [],
   "source": [
    "unique_ingrds_list = [list(OrderedDict.fromkeys(x)) for x in df_eightportion['ingredients']]\n",
    "for i in range(len(unique_ingrds_list)):\n",
    "    unique_ingrds_list[i] = [x for x in unique_ingrds_list[i] if x]\n",
    "df_eightportion['ingredients'] = unique_ingrds_list"
   ]
  },
  {
   "cell_type": "markdown",
   "metadata": {},
   "source": [
    "### concatenate dataframes and pickle"
   ]
  },
  {
   "cell_type": "code",
   "execution_count": null,
   "metadata": {},
   "outputs": [],
   "source": [
    "df_tot = pd.concat([df_eightportion, df_spoon])\n",
    "\n",
    "## drop duplicates as some recipes are posted to multiple sites\n",
    "df_tot.drop_duplicates(subset = 'names', inplace = True)"
   ]
  },
  {
   "cell_type": "code",
   "execution_count": null,
   "metadata": {},
   "outputs": [],
   "source": [
    "'''\n",
    "with open('compiled_recipes.pickle', 'wb') as f:\n",
    "    pickle.dump(df_tot, f)\n",
    "'''"
   ]
  },
  {
   "cell_type": "markdown",
   "metadata": {},
   "source": [
    "The final output is a single dataframe consisting the name, ingredients, and instructions for each recipe. Ingredients and instructions are both stored as lists. \n",
    "\n",
    "The saved dataframe is available at https://tinyurl.com/yyanydd4. The dataframe is pickled to retain list functionality for ingredients and instructions."
   ]
  }
 ],
 "metadata": {
  "kernelspec": {
   "display_name": "Python 3",
   "language": "python",
   "name": "python3"
  },
  "language_info": {
   "codemirror_mode": {
    "name": "ipython",
    "version": 3
   },
   "file_extension": ".py",
   "mimetype": "text/x-python",
   "name": "python",
   "nbconvert_exporter": "python",
   "pygments_lexer": "ipython3",
   "version": "3.7.1"
  }
 },
 "nbformat": 4,
 "nbformat_minor": 2
}
