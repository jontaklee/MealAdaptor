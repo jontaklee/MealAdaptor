{
 "cells": [
  {
   "cell_type": "markdown",
   "metadata": {},
   "source": [
    "# Train LDA and Word2Vec Models"
   ]
  },
  {
   "cell_type": "markdown",
   "metadata": {},
   "source": [
    "This notebook includes code to train and evaluate both LDA and Word2Vec models. <br>\n",
    "\n",
    "The 'compiled_recipes' dataframe was split into a training set and a test set. Each dataframe was pickled and can be found at https://tinyurl.com/yyanydd4."
   ]
  },
  {
   "cell_type": "code",
   "execution_count": 1,
   "metadata": {},
   "outputs": [],
   "source": [
    "import pickle\n",
    "import matplotlib.pyplot as plt\n",
    "from gensim import models, corpora\n",
    "import pandas as pd\n",
    "import numpy as np\n",
    "\n",
    "import pyLDAvis\n",
    "import pyLDAvis.gensim"
   ]
  },
  {
   "cell_type": "markdown",
   "metadata": {},
   "source": [
    "#### 10,000 recipes from 'compiled_recipes' dataframe were set aside for the test set "
   ]
  },
  {
   "cell_type": "code",
   "execution_count": 2,
   "metadata": {},
   "outputs": [],
   "source": [
    "with open('df_train.pickle', 'rb') as f:\n",
    "    df_train = pickle.load(f)\n",
    "\n",
    "with open('df_test.pickle', 'rb') as f:\n",
    "    df_test = pickle.load(f)"
   ]
  },
  {
   "cell_type": "markdown",
   "metadata": {},
   "source": [
    "### LDA with 4 topics"
   ]
  },
  {
   "cell_type": "code",
   "execution_count": null,
   "metadata": {},
   "outputs": [],
   "source": [
    "num_topics = 4\n",
    "\n",
    "dictionary = corpora.Dictionary(df_train['instructions'])\n",
    "corpus = [dictionary.doc2bow(text) for text in df_train['instructions']]\n",
    "\n",
    "lda_model = models.LdaModel(corpus=corpus, \n",
    "                            num_topics=num_topics, \n",
    "                            alpha = [.01]*num_topics,\n",
    "                            iterations = 100,\n",
    "                            passes = 10,\n",
    "                            id2word=dictionary)"
   ]
  },
  {
   "cell_type": "code",
   "execution_count": null,
   "metadata": {},
   "outputs": [],
   "source": [
    "'''\n",
    "lda_model.save('lda_model_10p4t_full_training.gensim')\n",
    "dictionary.save('lda_10p4t_full_training_dictionary')\n",
    "'''"
   ]
  },
  {
   "cell_type": "code",
   "execution_count": 3,
   "metadata": {},
   "outputs": [],
   "source": [
    "## load LDA model\n",
    "lda_model = models.LdaModel.load('lda_model_10p4t_full_training.gensim')\n",
    "dictionary = corpora.Dictionary.load('lda_10p4t_full_training_dictionary')"
   ]
  },
  {
   "cell_type": "markdown",
   "metadata": {},
   "source": [
    "### Visualize topics using pyLDAvis"
   ]
  },
  {
   "cell_type": "code",
   "execution_count": null,
   "metadata": {},
   "outputs": [],
   "source": [
    "pyLDAvis.enable_notebook()\n",
    "\n",
    "#dictionary = corpora.Dictionary(df_train['instructions'])\n",
    "#corpus = [dictionary.doc2bow(text) for text in df_train['instructions']]\n",
    "vis = pyLDAvis.gensim.prepare(lda_model, corpus, dictionary, sort_topics = False)\n",
    "vis"
   ]
  },
  {
   "cell_type": "markdown",
   "metadata": {},
   "source": [
    "In general, the topics correspond to: <br><br>\n",
    "Topic 1: stovetop meals<br>\n",
    "Topic 2: cold items and drinks<br>\n",
    "Topic 3: oven and grill meals<br>\n",
    "Topic 4: baked sweets<br>"
   ]
  },
  {
   "cell_type": "markdown",
   "metadata": {},
   "source": [
    "### Plot max weight distribution"
   ]
  },
  {
   "cell_type": "code",
   "execution_count": 4,
   "metadata": {},
   "outputs": [],
   "source": [
    "recipes_max_weight = []\n",
    "for i in df_train['instructions']:\n",
    "    bow = dictionary.doc2bow(i)\n",
    "    weights = lda_model[bow]\n",
    "    max_weight = sorted(weights, key=lambda x: x[1])[-1:][0][1]\n",
    "    recipes_max_weight.append(max_weight)"
   ]
  },
  {
   "cell_type": "code",
   "execution_count": 5,
   "metadata": {
    "scrolled": false
   },
   "outputs": [
    {
     "data": {
      "image/png": "[encoded data removed]",
      "text/plain": [
       "<Figure size 432x288 with 1 Axes>"
      ]
     },
     "metadata": {
      "needs_background": "light"
     },
     "output_type": "display_data"
    }
   ],
   "source": [
    "n, bins, patches = plt.hist(recipes_max_weight, 80, facecolor='darkblue', alpha=0.75)\n",
    "plt.xlabel(\"max weight\")\n",
    "plt.ylabel(\"number of recipes\")\n",
    "plt.title(\"maximum weight assigned to any topic\")\n",
    "plt.show()"
   ]
  },
  {
   "cell_type": "markdown",
   "metadata": {},
   "source": [
    "Parameters for LDA selected to maximize the number of recipes with a maximum assigned weight of ~1, and minimize the area under the curve of max weight distribution."
   ]
  },
  {
   "cell_type": "markdown",
   "metadata": {},
   "source": [
    "## Train word embeddings based on all data"
   ]
  },
  {
   "cell_type": "code",
   "execution_count": null,
   "metadata": {},
   "outputs": [],
   "source": [
    "full_model = models.Word2Vec(size=200, #number of features (dimensions)\n",
    "                               window=20, #window size encompasses entire list of ingredients\n",
    "                               min_count=20, #minimum instances of word in corpus to be included\n",
    "                               workers=6,\n",
    "                               sample = 5e-5, #randomly downsample common words\n",
    "                               sg = 1) #skipgram method\n",
    "full_model.build_vocab(df_train['ingredients'])\n",
    "full_model.train(df_train['ingredients'],\n",
    "            total_examples=full_model.corpus_count, \n",
    "            epochs=100)"
   ]
  },
  {
   "cell_type": "code",
   "execution_count": 6,
   "metadata": {},
   "outputs": [],
   "source": [
    "## load trained model\n",
    "full_model = models.Word2Vec.load('full_model_0206.model')"
   ]
  },
  {
   "cell_type": "markdown",
   "metadata": {},
   "source": [
    "### Evaluate model using the top suggestion for each staple"
   ]
  },
  {
   "cell_type": "code",
   "execution_count": 7,
   "metadata": {},
   "outputs": [],
   "source": [
    "##list of staples\n",
    "df_staples = pd.read_csv('staples_tagged_singular.csv')\n",
    "all_staples = list(df_staples['AbbrvName'])"
   ]
  },
  {
   "cell_type": "code",
   "execution_count": 8,
   "metadata": {},
   "outputs": [],
   "source": [
    "recipes = df_test['ingredients']\n",
    "\n",
    "model = full_model\n",
    "vocab = model.wv.vocab\n",
    "staple_cats = list(df_staples['Group'])\n",
    "\n",
    "saved_results = {}\n",
    "val_list = []\n",
    "for recipe in recipes:\n",
    "    \n",
    "    ## reduce ingredient lists to staples for comparison\n",
    "    staples_in = [i for i in recipe if i in all_staples]\n",
    "    for staple in staples_in:\n",
    "        if staple not in vocab:\n",
    "            continue\n",
    "        else:\n",
    "            \n",
    "            ## output results for staple if previously assessed\n",
    "            if staple in saved_results:\n",
    "                val_list.append(saved_results[staple])\n",
    "            else:\n",
    "                \n",
    "                ## get most similar foods to given staple (cosine similarity)\n",
    "                similar_foods = model.wv.most_similar(staple, topn = 5)\n",
    "                \n",
    "                ## exclude non-staples suggestions\n",
    "                similar_staples = [i[0] for i in similar_foods if i[0] in all_staples]\n",
    "                if similar_staples:\n",
    "                    \n",
    "                    ## determine if staple and suggestion categories match\n",
    "                    in_group = staple_cats[all_staples.index(staple)]\n",
    "                    out_group = staple_cats[all_staples.index(similar_staples[0])]\n",
    "                    output = (in_group == out_group, in_group)\n",
    "                    \n",
    "                    ## output results and save results for staple to dictionary\n",
    "                    val_list.append(output)\n",
    "                    saved_results[staple] = output\n",
    "  "
   ]
  },
  {
   "cell_type": "code",
   "execution_count": 9,
   "metadata": {},
   "outputs": [
    {
     "name": "stdout",
     "output_type": "stream",
     "text": [
      "p 0.7340388007054673\n",
      "v 0.9078223810833104\n",
      "s 0.4793075684380032\n",
      "g 0.6532846715328468\n",
      "f 0.6802753011105898\n",
      "o 0.0\n",
      "l 0.996958174904943\n"
     ]
    }
   ],
   "source": [
    "for group in df_staples['Group'].unique():\n",
    "    results = [x[0] for x in val_list if x[1] == group]\n",
    "    print(group, np.mean(results))"
   ]
  },
  {
   "cell_type": "markdown",
   "metadata": {},
   "source": [
    "## Train word embeddings per topic\n"
   ]
  },
  {
   "cell_type": "code",
   "execution_count": 11,
   "metadata": {},
   "outputs": [],
   "source": [
    "recipes_topics = []\n",
    "recipes_max_weight = []\n",
    "for i in df_train['instructions']:\n",
    "    bow = dictionary.doc2bow(i)\n",
    "    weights = lda_model[bow]\n",
    "    t_w = sorted(weights, key=lambda x: x[1])[-1:][0]\n",
    "    recipes_topics.append(t_w[0])\n",
    "    recipes_max_weight.append(t_w[1])\n",
    "\n",
    "df_train['topic'] = recipes_topics\n",
    "df_train['weight'] = recipes_max_weight"
   ]
  },
  {
   "cell_type": "code",
   "execution_count": 13,
   "metadata": {},
   "outputs": [],
   "source": [
    "## restrict to recipes with majority of weight assigned to 1 topic\n",
    "\n",
    "df_train2 = df_train.loc[df_train['weight'] > .5]"
   ]
  },
  {
   "cell_type": "code",
   "execution_count": null,
   "metadata": {},
   "outputs": [],
   "source": [
    "##train word2vec with 1 topic per recipe\n",
    "def model_n_save(df_topic):\n",
    "    model = models.Word2Vec(\n",
    "        size=200,\n",
    "        window=20,\n",
    "        min_count=20,\n",
    "        workers=6,\n",
    "        sample = 5e-5,\n",
    "        sg = 1)\n",
    "    model.build_vocab(df_topic['ingredients'])\n",
    "    model.train(df_topic['ingredients'], \n",
    "                total_examples=model.corpus_count, \n",
    "                epochs=100)\n",
    "    return model\n",
    "\n",
    "by_topic = df_train2.groupby('topic')\n",
    "w2v_models_single = by_topic.apply(model_n_save)\n"
   ]
  },
  {
   "cell_type": "code",
   "execution_count": 14,
   "metadata": {},
   "outputs": [],
   "source": [
    "## load trained models\n",
    "\n",
    "w2v_models_single = []\n",
    "for i in range(4):\n",
    "    file = 'w2v_topic'+ str(i)+ '_fulltrain.model'\n",
    "    model = models.Word2Vec.load(file)\n",
    "    w2v_models_single.append(model)"
   ]
  },
  {
   "cell_type": "markdown",
   "metadata": {},
   "source": [
    "### Evaluate each model using the top suggestion for each staple"
   ]
  },
  {
   "cell_type": "code",
   "execution_count": 16,
   "metadata": {},
   "outputs": [],
   "source": [
    "recipes = df_test['ingredients']\n",
    "\n",
    "staple_cats = list(df_staples['Group'])\n",
    "\n",
    "saved_results = [{}, {}, {}, {}]\n",
    "val_list = []\n",
    "for recipe in recipes:\n",
    "    \n",
    "    ## apply LDA for topic assignment\n",
    "    bow = dictionary.doc2bow(recipe)\n",
    "    topic = sorted(lda_model[bow], key=lambda x: x[1])[-1:][0][0]\n",
    "    \n",
    "    ## select word2vec model for designated topic\n",
    "    model = w2v_models_single[topic]\n",
    "    \n",
    "    ## reduce ingredient lists to staples for comparison\n",
    "    staples_in = [i for i in recipe if i in all_staples]\n",
    "    \n",
    "    for staple in staples_in:\n",
    "        if staple not in model.wv.vocab:\n",
    "            continue\n",
    "        else:\n",
    "            ## output results for staple if previously assessed\n",
    "            if staple in saved_results[topic]:\n",
    "                val_list.append(saved_results[topic][staple])\n",
    "            else:\n",
    "                ## get most similar foods to given staple (cosine similarity)\n",
    "                similar_foods = model.wv.most_similar(staple, topn = 5)\n",
    "                \n",
    "                ## exclude non-staples suggestions\n",
    "                similar_staples = [i[0] for i in similar_foods if i[0] in all_staples]\n",
    "                if similar_staples:\n",
    "                    \n",
    "                    ## determine if staple and suggestion categories match\n",
    "                    in_group = staple_cats[all_staples.index(staple)]\n",
    "                    out_group = staple_cats[all_staples.index(similar_staples[0])]\n",
    "                    output = (in_group == out_group, in_group, topic)\n",
    "                    \n",
    "                    ## output results and save results for staple to dictionary\n",
    "                    val_list.append(output)\n",
    "                    saved_results[topic][staple] = output"
   ]
  },
  {
   "cell_type": "code",
   "execution_count": 17,
   "metadata": {},
   "outputs": [
    {
     "name": "stdout",
     "output_type": "stream",
     "text": [
      "p 0.7612389617340113\n",
      "v 0.5014923301173041\n",
      "s 0.43330596402179594\n",
      "g 0.6263219741480611\n",
      "f 0.6395698244504191\n",
      "o 0.0\n",
      "l 0.8391167192429022\n"
     ]
    }
   ],
   "source": [
    "## print accuracy for each category of food\n",
    "# protein, veg, spices, grains, fruit, oils, liquids\n",
    "for group in df_staples['Group'].unique():\n",
    "    results = [x[0] for x in val_list if x[1] == group]\n",
    "    print(group, np.mean(results))"
   ]
  },
  {
   "cell_type": "code",
   "execution_count": 18,
   "metadata": {},
   "outputs": [
    {
     "name": "stdout",
     "output_type": "stream",
     "text": [
      "topic 1\n",
      "p 0.9037058651882113\n",
      "v 0.33238185854741514\n",
      "s 0.43216168717047454\n",
      "g 0.9144385026737968\n",
      "f 0.528954802259887\n",
      "o 0.0\n",
      "l 0.8609523809523809\n",
      "\n",
      "\n",
      "topic 2\n",
      "p 0.47191011235955055\n",
      "v 0.2702702702702703\n",
      "s 0.22160664819944598\n",
      "g 0.0\n",
      "f 0.7673509286412512\n",
      "o 0.0\n",
      "l 0.0\n",
      "\n",
      "\n",
      "topic 3\n",
      "p 0.8837575439517187\n",
      "v 0.8638640818993684\n",
      "s 0.37329177655238555\n",
      "g 0.0\n",
      "f 0.37095032397408206\n",
      "o 0.0\n",
      "l 0.9147982062780269\n",
      "\n",
      "\n",
      "topic 4\n",
      "p 0.42106573705179284\n",
      "v 0.328125\n",
      "s 0.538267716535433\n",
      "g 0.09049773755656108\n",
      "f 0.8971456692913385\n",
      "o 0.0\n",
      "l 0.0\n",
      "\n",
      "\n"
     ]
    }
   ],
   "source": [
    "## print accuracy by topic\n",
    "for topic in range(4):\n",
    "    subset = [x for x in val_list if x[2] == topic]\n",
    "    print('topic', topic+1)\n",
    "    for group in df_staples['Group'].unique():\n",
    "        results = [x[0] for x in subset if x[1] == group]\n",
    "        print(group, np.mean(results))\n",
    "        if group == 'l':\n",
    "            print('\\n')"
   ]
  },
  {
   "cell_type": "markdown",
   "metadata": {},
   "source": [
    "### Conclusion"
   ]
  },
  {
   "cell_type": "markdown",
   "metadata": {},
   "source": [
    "Compared to the model trained on the entire corpus, the topic-based word2vec models each perform better or worse for different subsets of food. This is likely due to the contents of the recipes assigned to each topic, which provide less context for certain types of food (such as a shortage of fruits among savory entrees)."
   ]
  }
 ],
 "metadata": {
  "kernelspec": {
   "display_name": "Python 3",
   "language": "python",
   "name": "python3"
  },
  "language_info": {
   "codemirror_mode": {
    "name": "ipython",
    "version": 3
   },
   "file_extension": ".py",
   "mimetype": "text/x-python",
   "name": "python",
   "nbconvert_exporter": "python",
   "pygments_lexer": "ipython3",
   "version": "3.7.1"
  }
 },
 "nbformat": 4,
 "nbformat_minor": 2
}
