{
 "cells": [
  {
   "cell_type": "code",
   "execution_count": 1,
   "metadata": {},
   "outputs": [],
   "source": [
    "import pickle\n",
    "import matplotlib.pyplot as plt\n",
    "from gensim import models, corpora\n",
    "import pandas as pd\n",
    "from collections import OrderedDict"
   ]
  },
  {
   "cell_type": "code",
   "execution_count": 2,
   "metadata": {},
   "outputs": [],
   "source": [
    "with open('df_train.pickle', 'rb') as f:\n",
    "    df_train = pickle.load(f)\n",
    "\n",
    "with open('df_test.pickle', 'rb') as f:\n",
    "    df_test = pickle.load(f)"
   ]
  },
  {
   "cell_type": "markdown",
   "metadata": {},
   "source": [
    "### LDA with 4 topics"
   ]
  },
  {
   "cell_type": "code",
   "execution_count": 34,
   "metadata": {},
   "outputs": [],
   "source": [
    "num_topics = 4\n",
    "\n",
    "dictionary = corpora.Dictionary(df_train['instructions'])\n",
    "corpus = [dictionary.doc2bow(text) for text in df_train['instructions']]\n",
    "\n",
    "lda_model5 = models.LdaModel(corpus=corpus, \n",
    "                            num_topics=num_topics, \n",
    "                            alpha = [.01]*num_topics,\n",
    "                            iterations = 100,\n",
    "                            passes = 10,\n",
    "                            id2word=dictionary)"
   ]
  },
  {
   "cell_type": "code",
   "execution_count": 35,
   "metadata": {},
   "outputs": [],
   "source": [
    "#lda_model5.save('lda_model_10p4t_full_training.gensim')"
   ]
  },
  {
   "cell_type": "code",
   "execution_count": 4,
   "metadata": {},
   "outputs": [],
   "source": [
    "## load LDA model\n",
    "lda_model = models.LdaModel.load('lda_model_10p4t_full_training.gensim')\n",
    "dictionary = corpora.Dictionary.load('lda_10p4t_full_training_dictionary')"
   ]
  },
  {
   "cell_type": "markdown",
   "metadata": {},
   "source": [
    "### plot max weight distribution"
   ]
  },
  {
   "cell_type": "code",
   "execution_count": null,
   "metadata": {},
   "outputs": [],
   "source": [
    "recipes_max_weight = []\n",
    "for i in df['instructions']:\n",
    "    bow = dictionary.doc2bow(i)\n",
    "    weights = lda_model[bow]\n",
    "    max_weight = sorted(weights, key=lambda x: x[1])[-1:][0][1]\n",
    "    recipes_max_weight.append(max_weight)"
   ]
  },
  {
   "cell_type": "code",
   "execution_count": 408,
   "metadata": {},
   "outputs": [
    {
     "data": {
      "image/png": "[encoded data removed]",
      "text/plain": [
       "<Figure size 640x480 with 1 Axes>"
      ]
     },
     "metadata": {},
     "output_type": "display_data"
    }
   ],
   "source": [
    "n, bins, patches = plt.hist(recipes_max_weight, 80, facecolor='darkblue', alpha=0.75)\n",
    "plt.xlabel(\"max weight\")\n",
    "plt.ylabel(\"number of recipes\")\n",
    "plt.title(\"maximum weight assigned to any topic\")\n",
    "#plt.show()\n",
    "plt.savefig('weight.png', dpi=800)"
   ]
  },
  {
   "cell_type": "markdown",
   "metadata": {},
   "source": [
    "## Evaluate effectiveness of the model in determining valid substitutions"
   ]
  },
  {
   "cell_type": "markdown",
   "metadata": {},
   "source": [
    "### w2v model based on all data"
   ]
  },
  {
   "cell_type": "code",
   "execution_count": 273,
   "metadata": {},
   "outputs": [
    {
     "data": {
      "text/plain": [
       "(26476096, 121415700)"
      ]
     },
     "execution_count": 273,
     "metadata": {},
     "output_type": "execute_result"
    }
   ],
   "source": [
    "full_model = models.Word2Vec(size=200,\n",
    "                               window=20,\n",
    "                               min_count=20,\n",
    "                               workers=6,\n",
    "                               sample = 1e-4,\n",
    "                               sg = 1)\n",
    "full_model.build_vocab(df_train['ingredients'])\n",
    "full_model.train(df_train['ingredients'],\n",
    "            total_examples=model.corpus_count, \n",
    "            epochs=100)"
   ]
  },
  {
   "cell_type": "code",
   "execution_count": 278,
   "metadata": {},
   "outputs": [],
   "source": [
    "## see annotations below, under Recipes trained on a single topic\n",
    "\n",
    "val_list = []\n",
    "for recipe_name in recipe_names:\n",
    "    row = test.loc[test['names'] == recipe_name]\n",
    "    ingr_list = row['ingredients'].iloc[0]\n",
    "    staples_in = [i for i in ingr_list if i in list(df_staples['AbbrvName'])]\n",
    "    staples_in = list(OrderedDict.fromkeys(staples_in))\n",
    "    model = full_model\n",
    "    replacements = []\n",
    "    for staple in staples_in:\n",
    "        try:\n",
    "            similar_foods = model.wv.most_similar(staple, topn = 6)\n",
    "        except KeyError:\n",
    "            continue\n",
    "\n",
    "        similar_staples = [(i[0],round(i[1], 3)) for i in similar_foods if i[0] in list(df_staples['AbbrvName'])]\n",
    "        staple_group = list(df_staples.loc[df_staples['AbbrvName'] == staple]['Group'])[0]\n",
    "        if similar_staples:\n",
    "            replacement_group = list(df_staples.loc[df_staples['AbbrvName'] == similar_staples[0][0]]['Group'])[0]\n",
    "            val_list.append((staple_group == replacement_group, staple_group))\n",
    "        else:\n",
    "            continue      "
   ]
  },
  {
   "cell_type": "code",
   "execution_count": 279,
   "metadata": {},
   "outputs": [
    {
     "name": "stdout",
     "output_type": "stream",
     "text": [
      "p 0.6322188449848024\n",
      "v 0.9058441558441559\n",
      "s 0.5114754098360655\n",
      "g 0.03225806451612903\n",
      "f 0.5564516129032258\n",
      "o 0.0\n",
      "l 0.046511627906976744\n"
     ]
    }
   ],
   "source": [
    "for group in df_staples['Group'].unique():\n",
    "    results = [x[0] for x in val_list if x[1] == group]\n",
    "    print(group, np.mean(results))"
   ]
  },
  {
   "cell_type": "markdown",
   "metadata": {},
   "source": [
    "### recipes assigned to a single topic"
   ]
  },
  {
   "cell_type": "code",
   "execution_count": 6,
   "metadata": {},
   "outputs": [],
   "source": [
    "recipes_topics = []\n",
    "recipes_max_weight = []\n",
    "for i in df_recipes['instructions']:\n",
    "    bow = dictionary.doc2bow(i)\n",
    "    weights = lda_model[bow]\n",
    "    t_w = sorted(weights, key=lambda x: x[1])[-1:][0]\n",
    "    recipes_topics.append(t_w[0])\n",
    "    recipes_max_weight.append(t_w[1])\n",
    "\n",
    "df_train['topic'] = recipes_topics\n",
    "df_train['max_weight'] = recipes_max_weight"
   ]
  },
  {
   "cell_type": "code",
   "execution_count": 8,
   "metadata": {},
   "outputs": [],
   "source": [
    "## restrict to recipes with majority of weight assigned to 1 topic\n",
    "\n",
    "df_train2 = df_train.loc[df['weight'] > .5]"
   ]
  },
  {
   "cell_type": "code",
   "execution_count": 22,
   "metadata": {},
   "outputs": [],
   "source": [
    "##train word2vec with 1 topic per recipe\n",
    "def model_n_save(df_topic):\n",
    "    model = models.Word2Vec(\n",
    "        size=200,\n",
    "        window=20,\n",
    "        min_count=20,\n",
    "        workers=6,\n",
    "        sample = 5e-5,\n",
    "        sg = 1)\n",
    "    model.build_vocab(df_topic['ingredients'])\n",
    "    model.train(df_topic['ingredients'], \n",
    "                total_examples=model.corpus_count, \n",
    "                epochs=100)\n",
    "    return model\n",
    "\n",
    "by_topic = df_train2.groupby('topic')\n",
    "w2v_models_single = by_topic.apply(model_n_save)\n"
   ]
  },
  {
   "cell_type": "code",
   "execution_count": 17,
   "metadata": {},
   "outputs": [],
   "source": [
    "df_set = df_train2\n",
    "\n",
    "val_list = []\n",
    "for recipe_name in recipe_names:\n",
    "    row = df_set.loc[df_set['names'] == recipe_name]\n",
    "    ingr_list = row['ingredients'].iloc[0]\n",
    "    \n",
    "    ## reduce ingredient lists to staples for comparison\n",
    "    staples_in = [i for i in ingr_list if i in list(df_staples['AbbrvName'])]\n",
    "    staples_in = list(OrderedDict.fromkeys(staples_in))\n",
    "    \n",
    "    ## apply LDA for topic assignment\n",
    "    bow = dictionary.doc2bow(ingr_list)\n",
    "    topic = sorted(lda_model[bow], key=lambda x: x[1])[-1:][0][0]\n",
    "    \n",
    "    ## select word2vec model for designated topic\n",
    "    model = w2v_models_single[topic]\n",
    "    \n",
    "    replacements = []\n",
    "    for staple in staples_in:\n",
    "        try:\n",
    "            \n",
    "            ## get most similar foods to given staple\n",
    "            similar_foods = model.wv.most_similar(staple, topn = 6)\n",
    "            \n",
    "        ## in case staple is not in corpus for that model  \n",
    "        except KeyError:\n",
    "            continue\n",
    "        \n",
    "        ## exclude non-staples suggestions\n",
    "        similar_staples = [(i[0],round(i[1], 3)) for i in similar_foods if i[0] in list(df_staples['AbbrvName'])]\n",
    "        \n",
    "        ## determine if staple and suggestion categories match and output\n",
    "        staple_group = df_staples.loc[df_staples['AbbrvName'] == staple]['Group'].iloc[0]\n",
    "        if similar_staples:\n",
    "            replacement_group = list(df_staples.loc[df_staples['AbbrvName'] == similar_staples[0][0]]['Group'])[0]\n",
    "            val_list.append((staple_group == replacement_group, staple_group, topic))\n",
    "        else:\n",
    "            continue    "
   ]
  },
  {
   "cell_type": "code",
   "execution_count": 20,
   "metadata": {},
   "outputs": [
    {
     "name": "stdout",
     "output_type": "stream",
     "text": [
      "p 0.8392282958199357\n",
      "v 0.6601307189542484\n",
      "s 0.39933993399339934\n",
      "g 0.20689655172413793\n",
      "f 0.45901639344262296\n",
      "o 0.0\n",
      "l 0.18604651162790697\n"
     ]
    }
   ],
   "source": [
    "## print accuracy for each category of food\n",
    "for group in df_staples['Group'].unique():\n",
    "    results = [x[0] for x in val_list if x[1] == group]\n",
    "    print(group, np.mean(results))"
   ]
  },
  {
   "cell_type": "code",
   "execution_count": 400,
   "metadata": {},
   "outputs": [
    {
     "name": "stdout",
     "output_type": "stream",
     "text": [
      "p 0.8513513513513513\n",
      "v 0.6153846153846154\n",
      "s 0.5978260869565217\n",
      "g nan\n",
      "f 0.23333333333333334\n",
      "o 0.0\n",
      "l 0.0\n",
      "p 0.8378378378378378\n",
      "v 0.7487179487179487\n",
      "s 0.3046875\n",
      "g 1.0\n",
      "f 0.21875\n",
      "o 0.0\n",
      "l 0.0\n",
      "p 0.8264462809917356\n",
      "v 0.5\n",
      "s 0.6612903225806451\n",
      "g 0.625\n",
      "f 0.8333333333333334\n",
      "o 0.0\n",
      "l 0.8888888888888888\n",
      "p 0.4\n",
      "v 0.0\n",
      "s 0.42105263157894735\n",
      "g nan\n",
      "f 0.6785714285714286\n",
      "o 0.0\n",
      "l 0.0\n",
      "p nan\n",
      "v nan\n",
      "s nan\n",
      "g nan\n",
      "f 1.0\n",
      "o nan\n",
      "l nan\n"
     ]
    }
   ],
   "source": [
    "for topic in range(4):\n",
    "    subset = [x for x in val_list if x[2] == topic]\n",
    "    for group in df_staples['Group'].unique():\n",
    "        results = [x[0] for x in subset if x[1] == group]\n",
    "        print(group, np.mean(results), '\\n')"
   ]
  }
 ],
 "metadata": {
  "kernelspec": {
   "display_name": "Python 3",
   "language": "python",
   "name": "python3"
  },
  "language_info": {
   "codemirror_mode": {
    "name": "ipython",
    "version": 3
   },
   "file_extension": ".py",
   "mimetype": "text/x-python",
   "name": "python",
   "nbconvert_exporter": "python",
   "pygments_lexer": "ipython3",
   "version": "3.7.1"
  }
 },
 "nbformat": 4,
 "nbformat_minor": 2
}
