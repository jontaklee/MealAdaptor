{
 "cells": [
  {
   "cell_type": "markdown",
   "metadata": {},
   "source": [
    "# MealAdaptor"
   ]
  },
  {
   "cell_type": "markdown",
   "metadata": {},
   "source": [
    "Provides suggested substitutions for each staple food in a recipe\n",
    "<br><br>\n",
    "Steps:\n",
    "1. a recipe is passed through the LDA model and assigned to a topic. \n",
    "2. for each ingredient, suggested substitutions are determined based on the Word2Vec model trained within the topic\n",
    "3. alternative substitutions are also determined using the Word2Vec model trained on the entire corpus of recipes\n",
    "4. a single list of suggested substitutions is chosen based on relatedness to the original ingredient and to one another\n",
    "\n",
    "Details regarding preprocessing recipes and training each model are available in the 'clean_combine_recipes' and 'train_models' notebooks, respectively.\n",
    "\n",
    "Note: Rank ordering of substitutions based on 'avoids' and 'superfoods' is not implemented in this notebook. Furthermore, substitutions are only provided for staple foods in the original recipe. "
   ]
  },
  {
   "cell_type": "code",
   "execution_count": 1,
   "metadata": {},
   "outputs": [],
   "source": [
    "import pickle\n",
    "from gensim import models, corpora\n",
    "import pandas as pd"
   ]
  },
  {
   "cell_type": "markdown",
   "metadata": {},
   "source": [
    "### Load LDA and Word2Vec models"
   ]
  },
  {
   "cell_type": "code",
   "execution_count": 2,
   "metadata": {},
   "outputs": [],
   "source": [
    "## LDA model\n",
    "lda_model = models.LdaModel.load('lda_model_10p4t_full_training.gensim')\n",
    "dictionary = corpora.Dictionary.load('lda_10p4t_full_training_dictionary')"
   ]
  },
  {
   "cell_type": "code",
   "execution_count": 3,
   "metadata": {},
   "outputs": [],
   "source": [
    "## Word2Vec models\n",
    "model_list = []\n",
    "for i in range(4):\n",
    "    file = 'w2v_topic'+ str(i)+ '_fulltrain.model'\n",
    "    model = models.Word2Vec.load(file)\n",
    "    model_list.append(model)\n",
    "\n",
    "full_model = models.Word2Vec.load('full_model_0206.model')"
   ]
  },
  {
   "cell_type": "markdown",
   "metadata": {},
   "source": [
    "Load staple foods"
   ]
  },
  {
   "cell_type": "code",
   "execution_count": 5,
   "metadata": {},
   "outputs": [],
   "source": [
    "df_staples = pd.read_csv('staples_tagged_singular.csv')\n",
    "all_staples = list(df_staples['AbbrvName'])"
   ]
  },
  {
   "cell_type": "markdown",
   "metadata": {},
   "source": [
    "### Load dataframe of recipes to modify"
   ]
  },
  {
   "cell_type": "markdown",
   "metadata": {},
   "source": [
    "see 'clean_combine_recipes' notebook for formatting "
   ]
  },
  {
   "cell_type": "code",
   "execution_count": 4,
   "metadata": {},
   "outputs": [],
   "source": [
    "with open('sample_recipes.pickle', 'rb') as f:\n",
    "    df_recipes = pickle.load(f)"
   ]
  },
  {
   "cell_type": "markdown",
   "metadata": {},
   "source": [
    "### Functions to retrieve ingredient substitutions"
   ]
  },
  {
   "cell_type": "markdown",
   "metadata": {},
   "source": [
    "Pass a recipe through the LDA model to assign a topic:\n"
   ]
  },
  {
   "cell_type": "code",
   "execution_count": 6,
   "metadata": {},
   "outputs": [],
   "source": [
    "def getTopic(instructions, lda_model, lda_dict):\n",
    "    bow = lda_dict.doc2bow(instructions)\n",
    "    weights = lda_model[bow]\n",
    "    topic = sorted(weights, key=lambda x: x[1])[-1:][0][0]\n",
    "    return topic"
   ]
  },
  {
   "cell_type": "markdown",
   "metadata": {},
   "source": [
    "<br>\n",
    "Determine the group of food a staple falls into: <br>\n",
    "    \n",
    "(options: p = protein, v = veg, s = spice, f = fruit, g = grain, o = oil, l = liquid)"
   ]
  },
  {
   "cell_type": "code",
   "execution_count": 7,
   "metadata": {},
   "outputs": [],
   "source": [
    "def getGroup(staple):\n",
    "    group = df_staples.loc[df_staples['AbbrvName'] == staple, 'Group'].iloc[0]\n",
    "    return group"
   ]
  },
  {
   "cell_type": "markdown",
   "metadata": {},
   "source": [
    "<br>\n",
    "Determine coherence (relatedness) of suggested substitutions, based on the number of groups of food they fall into:"
   ]
  },
  {
   "cell_type": "code",
   "execution_count": 8,
   "metadata": {},
   "outputs": [],
   "source": [
    "def evalSubs(subs_list, item_topic):\n",
    "    if subs_list:\n",
    "        groups = [getGroup(x[0]) for x in subs_list]\n",
    "        coherence = len([x for x in groups if x == item_topic])\n",
    "        return groups, coherence\n",
    "    else:\n",
    "        groups, coherence = ['none'], 0\n",
    "        return groups, coherence"
   ]
  },
  {
   "cell_type": "markdown",
   "metadata": {},
   "source": [
    "<br>\n",
    "Determines which set of substitutions to suggest:\n",
    "\n",
    "(Chooses based on relatedness of the top suggestion to the original item, followed by coherence. Defaults to topic-based suggestions whenever possible)"
   ]
  },
  {
   "cell_type": "code",
   "execution_count": 9,
   "metadata": {},
   "outputs": [],
   "source": [
    "def chooseModel(item, topical_list, full_list):\n",
    "    item_topic = getGroup(item)\n",
    "    groups_topical, coherence_topical = evalSubs(topical_list, item_topic)\n",
    "    groups_full, coherence_full = evalSubs(full_list, item_topic)\n",
    "    if groups_topical[0] == item_topic:\n",
    "        return topical_list\n",
    "    elif groups_full[0] == item_topic:\n",
    "        return full_list  \n",
    "    elif coherence_topical >= coherence_full:\n",
    "        return topical_list\n",
    "    else:\n",
    "        return full_list"
   ]
  },
  {
   "cell_type": "markdown",
   "metadata": {},
   "source": [
    "<br>\n",
    "Primary function to get substitutions:\n",
    "<br>\n",
    "chooses between two sets of potential substitutions and presents results in a dataframe"
   ]
  },
  {
   "cell_type": "code",
   "execution_count": 10,
   "metadata": {},
   "outputs": [],
   "source": [
    "def getSubs(staple, sub_model, full_model):\n",
    "    \n",
    "    df_temp = pd.DataFrame(columns = ['ingredient', 'substitute', 'rank'])\n",
    "    \n",
    "    ## check if staple is present in the vocabulary for both models ##\n",
    "    if staple in full_model.wv.vocab and staple in sub_model.wv.vocab:\n",
    "        \n",
    "        ## get top 3 suggested substitutions from each model ##\n",
    "        similar_foods = sub_model.wv.most_similar(staple)\n",
    "        similar_staples = [x for x in similar_foods if x[0] in all_staples][:3]\n",
    "        full_similar = full_model.wv.most_similar(staple)\n",
    "        full_similar_staples = [x for x in full_similar if x[0] in all_staples][:3]\n",
    "    \n",
    "        ## choose which list of suggestions to present ##\n",
    "        suggestions = chooseModel(staple, similar_staples, full_similar_staples)\n",
    "        suggestions = [x[0] for x in suggestions]\n",
    "        \n",
    "        ## append suggestions to dataframe ##\n",
    "        if suggestions:\n",
    "            for i in range(len(suggestions)):\n",
    "                df_temp = df_temp.append({'ingredient':staple, \n",
    "                                          'substitute':suggestions[i], \n",
    "                                          'rank':i+1}, ignore_index = True)\n",
    "        else:\n",
    "            df_temp = df_temp.append({'ingredient':staple, \n",
    "                                      'substitute':'no suggestions', \n",
    "                                      'rank':''}, ignore_index = True)\n",
    "    \n",
    "    ## fallback if staple only in full vocabulary ##\n",
    "    elif staple in full_model.wv.vocab:\n",
    "        full_similar = full_model.wv.most_similar(staple)\n",
    "        full_similar_staples = [x for x in full_similar if x[0] in all_staples][:3]\n",
    "        suggestions = [x[0] for x in full_similar_staples]\n",
    "        \n",
    "        if suggestions:\n",
    "            for i in range(len(suggestions)):\n",
    "                df_temp = df_temp.append({'ingredient':staple, \n",
    "                                          'substitute':suggestions[i], \n",
    "                                          'rank':i+1}, ignore_index = True)\n",
    "        else:\n",
    "            df_temp = df_temp.append({'ingredient':staple, \n",
    "                                      'substitute':'no suggestions', \n",
    "                                      'rank':''}, ignore_index = True)\n",
    "\n",
    "    ## if staple is not present in the vocabulary ##\n",
    "    else:\n",
    "        df_temp = df_temp.append({'ingredient':staple, \n",
    "                                  'substitute':'no suggestions', \n",
    "                                  'rank':''}, ignore_index = True)\n",
    "    \n",
    "    return df_temp"
   ]
  },
  {
   "cell_type": "markdown",
   "metadata": {},
   "source": [
    "### Example Case"
   ]
  },
  {
   "cell_type": "code",
   "execution_count": 11,
   "metadata": {},
   "outputs": [],
   "source": [
    "recipe_name = 'Vegetarian Lasagna'\n",
    "\n",
    "row = df_recipes.loc[df_recipes['names'] == recipe_name]\n",
    "topic = getTopic(row['instructions'].iloc[0], lda_model, dictionary)\n",
    "sub_model = model_list[topic]\n",
    "\n",
    "ingr_list = row['ingredients'].iloc[0]\n",
    "staples_in = [i for i in ingr_list if i in all_staples]\n",
    "\n",
    "df_subs = pd.DataFrame(columns = ['ingredient', 'substitute', 'rank'])\n",
    "for staple in staples_in:\n",
    "    df_subs = pd.concat([df_subs, getSubs(staple, sub_model, full_model)])"
   ]
  },
  {
   "cell_type": "code",
   "execution_count": 12,
   "metadata": {},
   "outputs": [
    {
     "data": {
      "text/html": [
       "<div>\n",
       "<style scoped>\n",
       "    .dataframe tbody tr th:only-of-type {\n",
       "        vertical-align: middle;\n",
       "    }\n",
       "\n",
       "    .dataframe tbody tr th {\n",
       "        vertical-align: top;\n",
       "    }\n",
       "\n",
       "    .dataframe thead th {\n",
       "        text-align: right;\n",
       "    }\n",
       "</style>\n",
       "<table border=\"1\" class=\"dataframe\">\n",
       "  <thead>\n",
       "    <tr style=\"text-align: right;\">\n",
       "      <th></th>\n",
       "      <th>ingredient</th>\n",
       "      <th>substitute</th>\n",
       "      <th>rank</th>\n",
       "    </tr>\n",
       "  </thead>\n",
       "  <tbody>\n",
       "    <tr>\n",
       "      <th>0</th>\n",
       "      <td>broccoli</td>\n",
       "      <td>cauliflower</td>\n",
       "      <td>1</td>\n",
       "    </tr>\n",
       "    <tr>\n",
       "      <th>1</th>\n",
       "      <td>broccoli</td>\n",
       "      <td>kale</td>\n",
       "      <td>2</td>\n",
       "    </tr>\n",
       "    <tr>\n",
       "      <th>2</th>\n",
       "      <td>broccoli</td>\n",
       "      <td>cashew</td>\n",
       "      <td>3</td>\n",
       "    </tr>\n",
       "    <tr>\n",
       "      <th>0</th>\n",
       "      <td>tomato</td>\n",
       "      <td>bell pepper</td>\n",
       "      <td>1</td>\n",
       "    </tr>\n",
       "    <tr>\n",
       "      <th>1</th>\n",
       "      <td>tomato</td>\n",
       "      <td>oregano</td>\n",
       "      <td>2</td>\n",
       "    </tr>\n",
       "    <tr>\n",
       "      <th>2</th>\n",
       "      <td>tomato</td>\n",
       "      <td>olive</td>\n",
       "      <td>3</td>\n",
       "    </tr>\n",
       "    <tr>\n",
       "      <th>0</th>\n",
       "      <td>carrot</td>\n",
       "      <td>cabbage</td>\n",
       "      <td>1</td>\n",
       "    </tr>\n",
       "    <tr>\n",
       "      <th>1</th>\n",
       "      <td>carrot</td>\n",
       "      <td>mushroom</td>\n",
       "      <td>2</td>\n",
       "    </tr>\n",
       "    <tr>\n",
       "      <th>2</th>\n",
       "      <td>carrot</td>\n",
       "      <td>parsley</td>\n",
       "      <td>3</td>\n",
       "    </tr>\n",
       "    <tr>\n",
       "      <th>0</th>\n",
       "      <td>zucchini</td>\n",
       "      <td>squash</td>\n",
       "      <td>1</td>\n",
       "    </tr>\n",
       "    <tr>\n",
       "      <th>1</th>\n",
       "      <td>zucchini</td>\n",
       "      <td>white bean</td>\n",
       "      <td>2</td>\n",
       "    </tr>\n",
       "    <tr>\n",
       "      <th>2</th>\n",
       "      <td>zucchini</td>\n",
       "      <td>parsley</td>\n",
       "      <td>3</td>\n",
       "    </tr>\n",
       "    <tr>\n",
       "      <th>0</th>\n",
       "      <td>egg</td>\n",
       "      <td>milk</td>\n",
       "      <td>1</td>\n",
       "    </tr>\n",
       "    <tr>\n",
       "      <th>1</th>\n",
       "      <td>egg</td>\n",
       "      <td>potato</td>\n",
       "      <td>2</td>\n",
       "    </tr>\n",
       "    <tr>\n",
       "      <th>2</th>\n",
       "      <td>egg</td>\n",
       "      <td>spinach</td>\n",
       "      <td>3</td>\n",
       "    </tr>\n",
       "    <tr>\n",
       "      <th>0</th>\n",
       "      <td>black pepper</td>\n",
       "      <td>garlic</td>\n",
       "      <td>1</td>\n",
       "    </tr>\n",
       "    <tr>\n",
       "      <th>1</th>\n",
       "      <td>black pepper</td>\n",
       "      <td>parsley</td>\n",
       "      <td>2</td>\n",
       "    </tr>\n",
       "    <tr>\n",
       "      <th>2</th>\n",
       "      <td>black pepper</td>\n",
       "      <td>heavy cream</td>\n",
       "      <td>3</td>\n",
       "    </tr>\n",
       "    <tr>\n",
       "      <th>0</th>\n",
       "      <td>oregano</td>\n",
       "      <td>tomato</td>\n",
       "      <td>1</td>\n",
       "    </tr>\n",
       "    <tr>\n",
       "      <th>1</th>\n",
       "      <td>oregano</td>\n",
       "      <td>bell pepper</td>\n",
       "      <td>2</td>\n",
       "    </tr>\n",
       "    <tr>\n",
       "      <th>2</th>\n",
       "      <td>oregano</td>\n",
       "      <td>onion</td>\n",
       "      <td>3</td>\n",
       "    </tr>\n",
       "    <tr>\n",
       "      <th>0</th>\n",
       "      <td>squash</td>\n",
       "      <td>zucchini</td>\n",
       "      <td>1</td>\n",
       "    </tr>\n",
       "    <tr>\n",
       "      <th>1</th>\n",
       "      <td>squash</td>\n",
       "      <td>brown rice</td>\n",
       "      <td>2</td>\n",
       "    </tr>\n",
       "    <tr>\n",
       "      <th>2</th>\n",
       "      <td>squash</td>\n",
       "      <td>barley</td>\n",
       "      <td>3</td>\n",
       "    </tr>\n",
       "    <tr>\n",
       "      <th>0</th>\n",
       "      <td>cheese</td>\n",
       "      <td>cream cheese</td>\n",
       "      <td>1</td>\n",
       "    </tr>\n",
       "    <tr>\n",
       "      <th>1</th>\n",
       "      <td>cheese</td>\n",
       "      <td>cottage cheese</td>\n",
       "      <td>2</td>\n",
       "    </tr>\n",
       "    <tr>\n",
       "      <th>2</th>\n",
       "      <td>cheese</td>\n",
       "      <td>goat</td>\n",
       "      <td>3</td>\n",
       "    </tr>\n",
       "    <tr>\n",
       "      <th>0</th>\n",
       "      <td>spinach</td>\n",
       "      <td>broccoli</td>\n",
       "      <td>1</td>\n",
       "    </tr>\n",
       "    <tr>\n",
       "      <th>1</th>\n",
       "      <td>spinach</td>\n",
       "      <td>basil</td>\n",
       "      <td>2</td>\n",
       "    </tr>\n",
       "    <tr>\n",
       "      <th>2</th>\n",
       "      <td>spinach</td>\n",
       "      <td>zucchini</td>\n",
       "      <td>3</td>\n",
       "    </tr>\n",
       "  </tbody>\n",
       "</table>\n",
       "</div>"
      ],
      "text/plain": [
       "     ingredient      substitute rank\n",
       "0      broccoli     cauliflower    1\n",
       "1      broccoli            kale    2\n",
       "2      broccoli          cashew    3\n",
       "0        tomato     bell pepper    1\n",
       "1        tomato         oregano    2\n",
       "2        tomato           olive    3\n",
       "0        carrot         cabbage    1\n",
       "1        carrot        mushroom    2\n",
       "2        carrot         parsley    3\n",
       "0      zucchini          squash    1\n",
       "1      zucchini      white bean    2\n",
       "2      zucchini         parsley    3\n",
       "0           egg            milk    1\n",
       "1           egg          potato    2\n",
       "2           egg         spinach    3\n",
       "0  black pepper          garlic    1\n",
       "1  black pepper         parsley    2\n",
       "2  black pepper     heavy cream    3\n",
       "0       oregano          tomato    1\n",
       "1       oregano     bell pepper    2\n",
       "2       oregano           onion    3\n",
       "0        squash        zucchini    1\n",
       "1        squash      brown rice    2\n",
       "2        squash          barley    3\n",
       "0        cheese    cream cheese    1\n",
       "1        cheese  cottage cheese    2\n",
       "2        cheese            goat    3\n",
       "0       spinach        broccoli    1\n",
       "1       spinach           basil    2\n",
       "2       spinach        zucchini    3"
      ]
     },
     "execution_count": 12,
     "metadata": {},
     "output_type": "execute_result"
    }
   ],
   "source": [
    "df_subs"
   ]
  }
 ],
 "metadata": {
  "kernelspec": {
   "display_name": "Python 3",
   "language": "python",
   "name": "python3"
  },
  "language_info": {
   "codemirror_mode": {
    "name": "ipython",
    "version": 3
   },
   "file_extension": ".py",
   "mimetype": "text/x-python",
   "name": "python",
   "nbconvert_exporter": "python",
   "pygments_lexer": "ipython3",
   "version": "3.7.1"
  }
 },
 "nbformat": 4,
 "nbformat_minor": 2
}
